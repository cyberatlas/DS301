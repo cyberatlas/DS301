{
 "cells": [
  {
   "cell_type": "code",
   "execution_count": 1,
   "metadata": {},
   "outputs": [],
   "source": [
    "import pandas as pd\n",
    "import numpy as np\n",
    "import matplotlib as plt\n",
    "import sklearn"
   ]
  },
  {
   "cell_type": "code",
   "execution_count": 2,
   "metadata": {},
   "outputs": [
    {
     "data": {
      "text/html": [
       "<div>\n",
       "<style scoped>\n",
       "    .dataframe tbody tr th:only-of-type {\n",
       "        vertical-align: middle;\n",
       "    }\n",
       "\n",
       "    .dataframe tbody tr th {\n",
       "        vertical-align: top;\n",
       "    }\n",
       "\n",
       "    .dataframe thead th {\n",
       "        text-align: right;\n",
       "    }\n",
       "</style>\n",
       "<table border=\"1\" class=\"dataframe\">\n",
       "  <thead>\n",
       "    <tr style=\"text-align: right;\">\n",
       "      <th></th>\n",
       "      <th>Unnamed: 0</th>\n",
       "      <th>Age</th>\n",
       "      <th>Sex</th>\n",
       "      <th>Job</th>\n",
       "      <th>Housing</th>\n",
       "      <th>Saving accounts</th>\n",
       "      <th>Checking account</th>\n",
       "      <th>Credit amount</th>\n",
       "      <th>Duration</th>\n",
       "      <th>Purpose</th>\n",
       "      <th>Risk</th>\n",
       "    </tr>\n",
       "  </thead>\n",
       "  <tbody>\n",
       "    <tr>\n",
       "      <th>0</th>\n",
       "      <td>0</td>\n",
       "      <td>67</td>\n",
       "      <td>male</td>\n",
       "      <td>2</td>\n",
       "      <td>own</td>\n",
       "      <td>NaN</td>\n",
       "      <td>little</td>\n",
       "      <td>1169</td>\n",
       "      <td>6</td>\n",
       "      <td>radio/TV</td>\n",
       "      <td>good</td>\n",
       "    </tr>\n",
       "    <tr>\n",
       "      <th>1</th>\n",
       "      <td>1</td>\n",
       "      <td>22</td>\n",
       "      <td>female</td>\n",
       "      <td>2</td>\n",
       "      <td>own</td>\n",
       "      <td>little</td>\n",
       "      <td>moderate</td>\n",
       "      <td>5951</td>\n",
       "      <td>48</td>\n",
       "      <td>radio/TV</td>\n",
       "      <td>bad</td>\n",
       "    </tr>\n",
       "    <tr>\n",
       "      <th>2</th>\n",
       "      <td>2</td>\n",
       "      <td>49</td>\n",
       "      <td>male</td>\n",
       "      <td>1</td>\n",
       "      <td>own</td>\n",
       "      <td>little</td>\n",
       "      <td>NaN</td>\n",
       "      <td>2096</td>\n",
       "      <td>12</td>\n",
       "      <td>education</td>\n",
       "      <td>good</td>\n",
       "    </tr>\n",
       "    <tr>\n",
       "      <th>3</th>\n",
       "      <td>3</td>\n",
       "      <td>45</td>\n",
       "      <td>male</td>\n",
       "      <td>2</td>\n",
       "      <td>free</td>\n",
       "      <td>little</td>\n",
       "      <td>little</td>\n",
       "      <td>7882</td>\n",
       "      <td>42</td>\n",
       "      <td>furniture/equipment</td>\n",
       "      <td>good</td>\n",
       "    </tr>\n",
       "    <tr>\n",
       "      <th>4</th>\n",
       "      <td>4</td>\n",
       "      <td>53</td>\n",
       "      <td>male</td>\n",
       "      <td>2</td>\n",
       "      <td>free</td>\n",
       "      <td>little</td>\n",
       "      <td>little</td>\n",
       "      <td>4870</td>\n",
       "      <td>24</td>\n",
       "      <td>car</td>\n",
       "      <td>bad</td>\n",
       "    </tr>\n",
       "  </tbody>\n",
       "</table>\n",
       "</div>"
      ],
      "text/plain": [
       "   Unnamed: 0  Age     Sex  Job Housing Saving accounts Checking account  \\\n",
       "0           0   67    male    2     own             NaN           little   \n",
       "1           1   22  female    2     own          little         moderate   \n",
       "2           2   49    male    1     own          little              NaN   \n",
       "3           3   45    male    2    free          little           little   \n",
       "4           4   53    male    2    free          little           little   \n",
       "\n",
       "   Credit amount  Duration              Purpose  Risk  \n",
       "0           1169         6             radio/TV  good  \n",
       "1           5951        48             radio/TV   bad  \n",
       "2           2096        12            education  good  \n",
       "3           7882        42  furniture/equipment  good  \n",
       "4           4870        24                  car   bad  "
      ]
     },
     "execution_count": 2,
     "metadata": {},
     "output_type": "execute_result"
    }
   ],
   "source": [
    "ger = pd.read_csv('german_credit_data.csv')\n",
    "ger.head()"
   ]
  },
  {
   "cell_type": "code",
   "execution_count": 3,
   "metadata": {},
   "outputs": [
    {
     "data": {
      "text/html": [
       "<div>\n",
       "<style scoped>\n",
       "    .dataframe tbody tr th:only-of-type {\n",
       "        vertical-align: middle;\n",
       "    }\n",
       "\n",
       "    .dataframe tbody tr th {\n",
       "        vertical-align: top;\n",
       "    }\n",
       "\n",
       "    .dataframe thead th {\n",
       "        text-align: right;\n",
       "    }\n",
       "</style>\n",
       "<table border=\"1\" class=\"dataframe\">\n",
       "  <thead>\n",
       "    <tr style=\"text-align: right;\">\n",
       "      <th></th>\n",
       "      <th>Age</th>\n",
       "      <th>Sex</th>\n",
       "      <th>Job</th>\n",
       "      <th>Housing</th>\n",
       "      <th>Credit amount</th>\n",
       "      <th>Duration</th>\n",
       "      <th>Purpose</th>\n",
       "      <th>Risk</th>\n",
       "    </tr>\n",
       "  </thead>\n",
       "  <tbody>\n",
       "    <tr>\n",
       "      <th>0</th>\n",
       "      <td>67</td>\n",
       "      <td>male</td>\n",
       "      <td>2</td>\n",
       "      <td>own</td>\n",
       "      <td>1169</td>\n",
       "      <td>6</td>\n",
       "      <td>radio/TV</td>\n",
       "      <td>good</td>\n",
       "    </tr>\n",
       "    <tr>\n",
       "      <th>1</th>\n",
       "      <td>22</td>\n",
       "      <td>female</td>\n",
       "      <td>2</td>\n",
       "      <td>own</td>\n",
       "      <td>5951</td>\n",
       "      <td>48</td>\n",
       "      <td>radio/TV</td>\n",
       "      <td>bad</td>\n",
       "    </tr>\n",
       "    <tr>\n",
       "      <th>2</th>\n",
       "      <td>49</td>\n",
       "      <td>male</td>\n",
       "      <td>1</td>\n",
       "      <td>own</td>\n",
       "      <td>2096</td>\n",
       "      <td>12</td>\n",
       "      <td>education</td>\n",
       "      <td>good</td>\n",
       "    </tr>\n",
       "    <tr>\n",
       "      <th>3</th>\n",
       "      <td>45</td>\n",
       "      <td>male</td>\n",
       "      <td>2</td>\n",
       "      <td>free</td>\n",
       "      <td>7882</td>\n",
       "      <td>42</td>\n",
       "      <td>furniture/equipment</td>\n",
       "      <td>good</td>\n",
       "    </tr>\n",
       "    <tr>\n",
       "      <th>4</th>\n",
       "      <td>53</td>\n",
       "      <td>male</td>\n",
       "      <td>2</td>\n",
       "      <td>free</td>\n",
       "      <td>4870</td>\n",
       "      <td>24</td>\n",
       "      <td>car</td>\n",
       "      <td>bad</td>\n",
       "    </tr>\n",
       "  </tbody>\n",
       "</table>\n",
       "</div>"
      ],
      "text/plain": [
       "   Age     Sex  Job Housing  Credit amount  Duration              Purpose  \\\n",
       "0   67    male    2     own           1169         6             radio/TV   \n",
       "1   22  female    2     own           5951        48             radio/TV   \n",
       "2   49    male    1     own           2096        12            education   \n",
       "3   45    male    2    free           7882        42  furniture/equipment   \n",
       "4   53    male    2    free           4870        24                  car   \n",
       "\n",
       "   Risk  \n",
       "0  good  \n",
       "1   bad  \n",
       "2  good  \n",
       "3  good  \n",
       "4   bad  "
      ]
     },
     "execution_count": 3,
     "metadata": {},
     "output_type": "execute_result"
    }
   ],
   "source": [
    "# Drop the Saving accounts and Checking account columns - we don't care about em\n",
    "ger = ger.drop(columns=['Saving accounts', 'Checking account', 'Unnamed: 0'])\n",
    "# Drop anything without value and the result is in place of ger\n",
    "ger.dropna(inplace=True)\n",
    "ger.head()"
   ]
  },
  {
   "cell_type": "code",
   "execution_count": 4,
   "metadata": {
    "scrolled": true
   },
   "outputs": [
    {
     "data": {
      "text/html": [
       "<div>\n",
       "<style scoped>\n",
       "    .dataframe tbody tr th:only-of-type {\n",
       "        vertical-align: middle;\n",
       "    }\n",
       "\n",
       "    .dataframe tbody tr th {\n",
       "        vertical-align: top;\n",
       "    }\n",
       "\n",
       "    .dataframe thead th {\n",
       "        text-align: right;\n",
       "    }\n",
       "</style>\n",
       "<table border=\"1\" class=\"dataframe\">\n",
       "  <thead>\n",
       "    <tr style=\"text-align: right;\">\n",
       "      <th></th>\n",
       "      <th>Gender_female</th>\n",
       "      <th>Gender_male</th>\n",
       "      <th>Job_0</th>\n",
       "      <th>Job_1</th>\n",
       "      <th>Job_2</th>\n",
       "      <th>Job_3</th>\n",
       "      <th>Housing_free</th>\n",
       "      <th>Housing_own</th>\n",
       "      <th>Housing_rent</th>\n",
       "      <th>Purpose_business</th>\n",
       "      <th>Purpose_car</th>\n",
       "      <th>Purpose_domestic appliances</th>\n",
       "      <th>Purpose_education</th>\n",
       "      <th>Purpose_furniture/equipment</th>\n",
       "      <th>Purpose_radio/TV</th>\n",
       "      <th>Purpose_repairs</th>\n",
       "      <th>Purpose_vacation/others</th>\n",
       "    </tr>\n",
       "  </thead>\n",
       "  <tbody>\n",
       "    <tr>\n",
       "      <th>0</th>\n",
       "      <td>0</td>\n",
       "      <td>1</td>\n",
       "      <td>0</td>\n",
       "      <td>0</td>\n",
       "      <td>1</td>\n",
       "      <td>0</td>\n",
       "      <td>0</td>\n",
       "      <td>1</td>\n",
       "      <td>0</td>\n",
       "      <td>0</td>\n",
       "      <td>0</td>\n",
       "      <td>0</td>\n",
       "      <td>0</td>\n",
       "      <td>0</td>\n",
       "      <td>1</td>\n",
       "      <td>0</td>\n",
       "      <td>0</td>\n",
       "    </tr>\n",
       "    <tr>\n",
       "      <th>1</th>\n",
       "      <td>1</td>\n",
       "      <td>0</td>\n",
       "      <td>0</td>\n",
       "      <td>0</td>\n",
       "      <td>1</td>\n",
       "      <td>0</td>\n",
       "      <td>0</td>\n",
       "      <td>1</td>\n",
       "      <td>0</td>\n",
       "      <td>0</td>\n",
       "      <td>0</td>\n",
       "      <td>0</td>\n",
       "      <td>0</td>\n",
       "      <td>0</td>\n",
       "      <td>1</td>\n",
       "      <td>0</td>\n",
       "      <td>0</td>\n",
       "    </tr>\n",
       "    <tr>\n",
       "      <th>2</th>\n",
       "      <td>0</td>\n",
       "      <td>1</td>\n",
       "      <td>0</td>\n",
       "      <td>1</td>\n",
       "      <td>0</td>\n",
       "      <td>0</td>\n",
       "      <td>0</td>\n",
       "      <td>1</td>\n",
       "      <td>0</td>\n",
       "      <td>0</td>\n",
       "      <td>0</td>\n",
       "      <td>0</td>\n",
       "      <td>1</td>\n",
       "      <td>0</td>\n",
       "      <td>0</td>\n",
       "      <td>0</td>\n",
       "      <td>0</td>\n",
       "    </tr>\n",
       "    <tr>\n",
       "      <th>3</th>\n",
       "      <td>0</td>\n",
       "      <td>1</td>\n",
       "      <td>0</td>\n",
       "      <td>0</td>\n",
       "      <td>1</td>\n",
       "      <td>0</td>\n",
       "      <td>1</td>\n",
       "      <td>0</td>\n",
       "      <td>0</td>\n",
       "      <td>0</td>\n",
       "      <td>0</td>\n",
       "      <td>0</td>\n",
       "      <td>0</td>\n",
       "      <td>1</td>\n",
       "      <td>0</td>\n",
       "      <td>0</td>\n",
       "      <td>0</td>\n",
       "    </tr>\n",
       "    <tr>\n",
       "      <th>4</th>\n",
       "      <td>0</td>\n",
       "      <td>1</td>\n",
       "      <td>0</td>\n",
       "      <td>0</td>\n",
       "      <td>1</td>\n",
       "      <td>0</td>\n",
       "      <td>1</td>\n",
       "      <td>0</td>\n",
       "      <td>0</td>\n",
       "      <td>0</td>\n",
       "      <td>1</td>\n",
       "      <td>0</td>\n",
       "      <td>0</td>\n",
       "      <td>0</td>\n",
       "      <td>0</td>\n",
       "      <td>0</td>\n",
       "      <td>0</td>\n",
       "    </tr>\n",
       "  </tbody>\n",
       "</table>\n",
       "</div>"
      ],
      "text/plain": [
       "   Gender_female  Gender_male  Job_0  Job_1  Job_2  Job_3  Housing_free  \\\n",
       "0              0            1      0      0      1      0             0   \n",
       "1              1            0      0      0      1      0             0   \n",
       "2              0            1      0      1      0      0             0   \n",
       "3              0            1      0      0      1      0             1   \n",
       "4              0            1      0      0      1      0             1   \n",
       "\n",
       "   Housing_own  Housing_rent  Purpose_business  Purpose_car  \\\n",
       "0            1             0                 0            0   \n",
       "1            1             0                 0            0   \n",
       "2            1             0                 0            0   \n",
       "3            0             0                 0            0   \n",
       "4            0             0                 0            1   \n",
       "\n",
       "   Purpose_domestic appliances  Purpose_education  \\\n",
       "0                            0                  0   \n",
       "1                            0                  0   \n",
       "2                            0                  1   \n",
       "3                            0                  0   \n",
       "4                            0                  0   \n",
       "\n",
       "   Purpose_furniture/equipment  Purpose_radio/TV  Purpose_repairs  \\\n",
       "0                            0                 1                0   \n",
       "1                            0                 1                0   \n",
       "2                            0                 0                0   \n",
       "3                            1                 0                0   \n",
       "4                            0                 0                0   \n",
       "\n",
       "   Purpose_vacation/others  \n",
       "0                        0  \n",
       "1                        0  \n",
       "2                        0  \n",
       "3                        0  \n",
       "4                        0  "
      ]
     },
     "execution_count": 4,
     "metadata": {},
     "output_type": "execute_result"
    }
   ],
   "source": [
    "# Initialize empty df then concatcolumn values as new columns\n",
    "encodedDF = pd.DataFrame()\n",
    "encodedDF = pd.concat([encodedDF, pd.get_dummies(ger['Sex'], prefix = 'Gender'),\n",
    "                      pd.get_dummies(ger['Job'], prefix = 'Job'),\n",
    "                      pd.get_dummies(ger['Housing'], prefix = 'Housing'),\n",
    "                      pd.get_dummies(ger['Purpose'], prefix = 'Purpose')],axis=1)\n",
    "encodedDF.head()"
   ]
  },
  {
   "cell_type": "code",
   "execution_count": 5,
   "metadata": {},
   "outputs": [],
   "source": [
    "# Encode the risk to make a risk label\n",
    "from sklearn.preprocessing import LabelEncoder\n",
    "# Initialize label encoder\n",
    "le = LabelEncoder()\n",
    "# Needs to be fitted\n",
    "le.fit(ger['Risk'])\n",
    "# Encode the Risk from the OG df, save in encoded df\n",
    "encodedDF['Risk_Label'] = le.transform(ger['Risk']) "
   ]
  },
  {
   "cell_type": "code",
   "execution_count": 6,
   "metadata": {},
   "outputs": [],
   "source": [
    "# Grabs every row from every column except the last one (our label)\n",
    "features = encodedDF.iloc[:, :-1]\n",
    "labels = encodedDF['Risk_Label']"
   ]
  },
  {
   "cell_type": "code",
   "execution_count": 7,
   "metadata": {},
   "outputs": [],
   "source": [
    "from sklearn.model_selection import train_test_split\n",
    "# Run train test split of the dataframes, using 30% test\n",
    "X_train, X_test, y_train, y_test = train_test_split(features, labels, test_size = .30)"
   ]
  },
  {
   "cell_type": "code",
   "execution_count": 8,
   "metadata": {
    "scrolled": true
   },
   "outputs": [],
   "source": [
    "#TODO figure out why this didnt not work\n",
    "#test = pd.DataFrame(encodedDF.corr()['Risk_Label']).abs().nlargest(5, 'Risk_Label')\n",
    "#test = pd.DataFrame(encodedDF.corr()['Risk_Label']).abs().nlargest(5, 'Risk_Label')\n",
    "\n",
    "#type(list(test))\n",
    "#test.index\n",
    "#test\n",
    "#tst.drop(columns='Housing_rent')\n",
    "#test2 = encodedDF[list(test.index)].drop(columns='Risk_Label')\n",
    "#encodedDF\n",
    "#test"
   ]
  },
  {
   "cell_type": "code",
   "execution_count": 9,
   "metadata": {
    "scrolled": true
   },
   "outputs": [],
   "source": [
    "#knnClassifier.fit(test, labels)\n",
    "#knnClassifier.predict(y_train)\n"
   ]
  },
  {
   "cell_type": "code",
   "execution_count": 10,
   "metadata": {},
   "outputs": [],
   "source": [
    "from sklearn.neighbors import KNeighborsClassifier\n",
    "knnClassifier = KNeighborsClassifier(n_neighbors=5)\n",
    "#knnClassifier.fit(X_train, y_train)\n",
    "# Make the KNN Prediction and undo the encoding\n",
    "#knnPred = le.inverse_transform(knnClassifier.predict(X_test))"
   ]
  },
  {
   "cell_type": "code",
   "execution_count": 11,
   "metadata": {},
   "outputs": [],
   "source": [
    "from sklearn.tree import DecisionTreeClassifier\n",
    "decTree = DecisionTreeClassifier()\n",
    "\n",
    "from sklearn.naive_bayes import GaussianNB\n",
    "gnb = GaussianNB()"
   ]
  },
  {
   "cell_type": "code",
   "execution_count": 12,
   "metadata": {},
   "outputs": [],
   "source": [
    "from sklearn.metrics import classification_report, confusion_matrix\n",
    "import seaborn as sn\n",
    "from sklearn.model_selection import cross_val_score\n"
   ]
  },
  {
   "cell_type": "code",
   "execution_count": 13,
   "metadata": {},
   "outputs": [],
   "source": [
    "# Function to make the prediction and show the relevant statistics\n",
    "def prediction(model):\n",
    "    # Fit the model\n",
    "    model.fit(X_train, y_train)\n",
    "    # Predict the test values\n",
    "    pred = model.predict(X_test)\n",
    "    # Undo the scale and transform\n",
    "    pred = le.inverse_transform(pred)\n",
    "    # Generate the Classification report\n",
    "    classReport = classification_report(le.inverse_transform(y_test), pred)\n",
    "    #classReport = classification_report(y_test, pred)\n",
    "    print('Classification Report')\n",
    "    print(classReport)\n",
    "    # X validation score\n",
    "    xValScore = cross_val_score(model, X_train, y_train, cv=3, scoring=\"accuracy\")\n",
    "    print('Cross Validation Score')\n",
    "    print(xValScore)\n",
    "    # Make the confusion matrix\n",
    "    cfMatrix = confusion_matrix(le.inverse_transform(y_test), pred, labels = ['good', 'bad'])\n",
    "    print(\"Confusion Matrix\")\n",
    "    print(cfMatrix)\n",
    "    # Graph the confusion matrix using seaborn\n",
    "    sn.heatmap(cfMatrix, annot=True)\n"
   ]
  },
  {
   "cell_type": "code",
   "execution_count": 14,
   "metadata": {
    "scrolled": true
   },
   "outputs": [
    {
     "name": "stdout",
     "output_type": "stream",
     "text": [
      "KNN\n",
      "Classification Report\n",
      "              precision    recall  f1-score   support\n",
      "\n",
      "         bad       0.35      0.14      0.20        91\n",
      "        good       0.70      0.89      0.78       209\n",
      "\n",
      "    accuracy                           0.66       300\n",
      "   macro avg       0.53      0.51      0.49       300\n",
      "weighted avg       0.60      0.66      0.61       300\n",
      "\n",
      "Cross Validation Score\n",
      "[0.5982906  0.6025641  0.64224138]\n",
      "Confusion Matrix\n",
      "[[185  24]\n",
      " [ 78  13]]\n"
     ]
    },
    {
     "data": {
      "image/png": "[encoded data removed]",
      "text/plain": [
       "<Figure size 432x288 with 2 Axes>"
      ]
     },
     "metadata": {
      "needs_background": "light"
     },
     "output_type": "display_data"
    }
   ],
   "source": [
    "print(\"KNN\")\n",
    "prediction(knnClassifier)"
   ]
  },
  {
   "cell_type": "code",
   "execution_count": 15,
   "metadata": {
    "scrolled": true
   },
   "outputs": [
    {
     "name": "stdout",
     "output_type": "stream",
     "text": [
      "Decision Tree\n",
      "Classification Report\n",
      "              precision    recall  f1-score   support\n",
      "\n",
      "         bad       0.29      0.12      0.17        91\n",
      "        good       0.69      0.87      0.77       209\n",
      "\n",
      "    accuracy                           0.64       300\n",
      "   macro avg       0.49      0.50      0.47       300\n",
      "weighted avg       0.57      0.64      0.59       300\n",
      "\n",
      "Cross Validation Score\n",
      "[0.6025641  0.62820513 0.64655172]\n",
      "Confusion Matrix\n",
      "[[182  27]\n",
      " [ 80  11]]\n"
     ]
    },
    {
     "data": {
      "image/png": "[encoded data removed]",
      "text/plain": [
       "<Figure size 432x288 with 2 Axes>"
      ]
     },
     "metadata": {
      "needs_background": "light"
     },
     "output_type": "display_data"
    }
   ],
   "source": [
    "print(\"Decision Tree\")\n",
    "prediction(decTree)"
   ]
  },
  {
   "cell_type": "code",
   "execution_count": 16,
   "metadata": {},
   "outputs": [
    {
     "name": "stdout",
     "output_type": "stream",
     "text": [
      "GNB\n",
      "Classification Report\n",
      "              precision    recall  f1-score   support\n",
      "\n",
      "         bad       0.45      0.24      0.31        91\n",
      "        good       0.73      0.87      0.79       209\n",
      "\n",
      "    accuracy                           0.68       300\n",
      "   macro avg       0.59      0.56      0.55       300\n",
      "weighted avg       0.64      0.68      0.65       300\n",
      "\n",
      "Cross Validation Score\n",
      "[0.60683761 0.67094017 0.29310345]\n",
      "Confusion Matrix\n",
      "[[182  27]\n",
      " [ 69  22]]\n"
     ]
    },
    {
     "data": {
      "image/png": "[encoded data removed]",
      "text/plain": [
       "<Figure size 432x288 with 2 Axes>"
      ]
     },
     "metadata": {
      "needs_background": "light"
     },
     "output_type": "display_data"
    }
   ],
   "source": [
    "print(\"GNB\")\n",
    "prediction(gnb)"
   ]
  },
  {
   "cell_type": "code",
   "execution_count": 17,
   "metadata": {},
   "outputs": [],
   "source": [
    "# TODO pick the 5 largest absolute correlation val, make new prediction off of that\n",
    "# Make the predictions again\n",
    "# Could do this before making the predictions\n"
   ]
  },
  {
   "cell_type": "code",
   "execution_count": 18,
   "metadata": {
    "scrolled": true
   },
   "outputs": [],
   "source": [
    "#print(X_train)\n",
    "# TODO figure out why this is less accurate\n",
    "from sklearn.preprocessing import StandardScaler\n",
    "# Initialize Standard Scaler\n",
    "scaler = StandardScaler()\n",
    "# Fit the training data\n",
    "scaler.fit(X_train)\n",
    "# Scale the training and testing data\n",
    "X_train = scaler.transform(X_train)\n",
    "X_test = scaler.transform(X_test)\n",
    "\n"
   ]
  },
  {
   "cell_type": "code",
   "execution_count": 19,
   "metadata": {},
   "outputs": [
    {
     "name": "stdout",
     "output_type": "stream",
     "text": [
      "Classification Report\n",
      "              precision    recall  f1-score   support\n",
      "\n",
      "         bad       0.38      0.22      0.28        91\n",
      "        good       0.71      0.84      0.77       209\n",
      "\n",
      "    accuracy                           0.65       300\n",
      "   macro avg       0.54      0.53      0.52       300\n",
      "weighted avg       0.61      0.65      0.62       300\n",
      "\n",
      "Cross Validation Score\n",
      "[0.57692308 0.59401709 0.64655172]\n",
      "Confusion Matrix\n",
      "[[176  33]\n",
      " [ 71  20]]\n"
     ]
    },
    {
     "data": {
      "image/png": "[encoded data removed]",
      "text/plain": [
       "<Figure size 432x288 with 2 Axes>"
      ]
     },
     "metadata": {
      "needs_background": "light"
     },
     "output_type": "display_data"
    }
   ],
   "source": [
    "# TODO why is the scaled data less accurate?\n",
    "#print(X_train)\n",
    "knnClassifier2 = KNeighborsClassifier(n_neighbors=7)\n",
    "prediction(knnClassifier2)"
   ]
  },
  {
   "cell_type": "code",
   "execution_count": 20,
   "metadata": {},
   "outputs": [
    {
     "name": "stdout",
     "output_type": "stream",
     "text": [
      "Classification Report\n",
      "              precision    recall  f1-score   support\n",
      "\n",
      "         bad       0.50      0.07      0.12        91\n",
      "        good       0.70      0.97      0.82       209\n",
      "\n",
      "    accuracy                           0.70       300\n",
      "   macro avg       0.60      0.52      0.47       300\n",
      "weighted avg       0.64      0.70      0.60       300\n",
      "\n",
      "Cross Validation Score\n",
      "[0.70940171 0.67948718 0.70258621]\n",
      "Confusion Matrix\n",
      "[[203   6]\n",
      " [ 85   6]]\n"
     ]
    },
    {
     "data": {
      "image/png": "[encoded data removed]",
      "text/plain": [
       "<Figure size 432x288 with 2 Axes>"
      ]
     },
     "metadata": {
      "needs_background": "light"
     },
     "output_type": "display_data"
    }
   ],
   "source": [
    "# Trying to improve decision tree classifier\n",
    "decTree2 = DecisionTreeClassifier(max_depth=3)\n",
    "prediction(decTree2)"
   ]
  },
  {
   "cell_type": "code",
   "execution_count": 21,
   "metadata": {},
   "outputs": [
    {
     "name": "stdout",
     "output_type": "stream",
     "text": [
      "Classification Report\n",
      "              precision    recall  f1-score   support\n",
      "\n",
      "         bad       0.31      0.12      0.17        91\n",
      "        good       0.70      0.88      0.78       209\n",
      "\n",
      "    accuracy                           0.65       300\n",
      "   macro avg       0.50      0.50      0.48       300\n",
      "weighted avg       0.58      0.65      0.59       300\n",
      "\n",
      "Cross Validation Score\n",
      "[0.5982906  0.62820513 0.65086207]\n",
      "Confusion Matrix\n",
      "[[184  25]\n",
      " [ 80  11]]\n"
     ]
    },
    {
     "data": {
      "image/png": "[encoded data removed]",
      "text/plain": [
       "<Figure size 432x288 with 2 Axes>"
      ]
     },
     "metadata": {
      "needs_background": "light"
     },
     "output_type": "display_data"
    }
   ],
   "source": [
    "# Playing with the decision Tree classifier \n",
    "decTree3 = DecisionTreeClassifier(splitter=\"random\")\n",
    "prediction(decTree3)"
   ]
  },
  {
   "cell_type": "code",
   "execution_count": 22,
   "metadata": {},
   "outputs": [
    {
     "name": "stdout",
     "output_type": "stream",
     "text": [
      "GNB\n",
      "Classification Report\n",
      "              precision    recall  f1-score   support\n",
      "\n",
      "         bad       0.45      0.24      0.31        91\n",
      "        good       0.73      0.87      0.79       209\n",
      "\n",
      "    accuracy                           0.68       300\n",
      "   macro avg       0.59      0.56      0.55       300\n",
      "weighted avg       0.64      0.68      0.65       300\n",
      "\n",
      "Cross Validation Score\n",
      "[0.60683761 0.67094017 0.29310345]\n",
      "Confusion Matrix\n",
      "[[182  27]\n",
      " [ 69  22]]\n"
     ]
    },
    {
     "data": {
      "image/png": "[encoded data removed]",
      "text/plain": [
       "<Figure size 432x288 with 2 Axes>"
      ]
     },
     "metadata": {
      "needs_background": "light"
     },
     "output_type": "display_data"
    }
   ],
   "source": [
    "print(\"GNB\")\n",
    "prediction(gnb)"
   ]
  }
 ],
 "metadata": {
  "kernelspec": {
   "display_name": "Python 3",
   "language": "python",
   "name": "python3"
  },
  "language_info": {
   "codemirror_mode": {
    "name": "ipython",
    "version": 3
   },
   "file_extension": ".py",
   "mimetype": "text/x-python",
   "name": "python",
   "nbconvert_exporter": "python",
   "pygments_lexer": "ipython3",
   "version": "3.7.3"
  }
 },
 "nbformat": 4,
 "nbformat_minor": 2
}
